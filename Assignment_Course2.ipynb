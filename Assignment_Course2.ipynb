{
  "metadata": {
    "language_info": {
      "codemirror_mode": {
        "name": "python",
        "version": 3
      },
      "file_extension": ".py",
      "mimetype": "text/x-python",
      "name": "python",
      "nbconvert_exporter": "python",
      "pygments_lexer": "ipython3",
      "version": "3.8"
    },
    "kernelspec": {
      "name": "python",
      "display_name": "Pyolite",
      "language": "python"
    }
  },
  "nbformat_minor": 4,
  "nbformat": 4,
  "cells": [
    {
      "cell_type": "markdown",
      "source": "# My Jupyter Notebook on IBM Watson Studio",
      "metadata": {}
    },
    {
      "cell_type": "markdown",
      "source": "**Kirk Adkins**",
      "metadata": {}
    },
    {
      "cell_type": "markdown",
      "source": "Graduate student in Applied Economics",
      "metadata": {}
    },
    {
      "cell_type": "markdown",
      "source": "*I recently completed a MS in Applied Economics, which included the study of statistics and programming for the purposes of policy analysis.  I would like to employ these skills, coupled with this course, in employment with my district government, which has an ever growing amount of data coming in from its agencies - from disparate data gathered from policing to health services to corporate registrations and real estate valuations.  These agencies are just beginning the process of combing and combining these data sets to inform city policy, and I would like to be involved in aggregating, cleaning, and analyzing the data in order to guide the district council and its agencies to be better functioning  and more resourceful, responsive, transparent, and efficient.*",
      "metadata": {}
    },
    {
      "cell_type": "markdown",
      "source": "### The below code sums each integer from 1 through and including 10, and outputs the total.",
      "metadata": {}
    },
    {
      "cell_type": "code",
      "source": "1+2+3+4+5+6+7+8+9+10",
      "metadata": {
        "trusted": true
      },
      "execution_count": 7,
      "outputs": [
        {
          "execution_count": 7,
          "output_type": "execute_result",
          "data": {
            "text/plain": "55"
          },
          "metadata": {}
        }
      ]
    },
    {
      "cell_type": "markdown",
      "source": "**I now create an illustration of a tic-tac-toe game**\n1. I explain my steps in a list, so as to satisfy the numbered list requirement\n2. Tic-tac-toe is played  in a 3x3 table. The three columns of the table are named \"Tic\", \"Tac\", and \"Toe\". \n3. Colons are used to align the text in the columns centrally.  I got this information from the Github \"Markdown Cheatsheet\" from earlier in the course. \n4. I create strickthroughs on the \"X\"s that \"won\" the game by using tildas.\n\nTic | Tac | Toe\n:--------: |:--------:| :--------:\nO | X | O \n~~X~~ | ~~X~~ | ~~X~~\nO | O | X\n\n\n",
      "metadata": {}
    },
    {
      "cell_type": "code",
      "source": "",
      "metadata": {},
      "execution_count": null,
      "outputs": []
    }
  ]
}